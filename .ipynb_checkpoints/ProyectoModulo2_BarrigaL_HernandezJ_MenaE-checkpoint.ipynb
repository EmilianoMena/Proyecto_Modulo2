{
 "cells": [
  {
   "cell_type": "code",
   "execution_count": 2,
   "metadata": {},
   "outputs": [
    {
     "name": "stderr",
     "output_type": "stream",
     "text": [
      "/opt/anaconda3/lib/python3.8/site-packages/pyfolio/pos.py:26: UserWarning: Module \"zipline.assets\" not found; mutltipliers will not be applied to position notionals.\n",
      "  warnings.warn(\n"
     ]
    }
   ],
   "source": [
    "import numpy as np\n",
    "import pandas as pd\n",
    "import pandas_datareader.data as pdr\n",
    "import datetime as date\n",
    "import matplotlib.pyplot as plt\n",
    "import pyfolio\n",
    "import warnings"
   ]
  },
  {
   "cell_type": "code",
   "execution_count": 3,
   "metadata": {},
   "outputs": [],
   "source": [
    "# Instalar estas librerias para poder ejecutar correctamente el portafolio de inversión.\n",
    "# %pip install pandas_datareader\n",
    "# %pip install pyfolio\n",
    "# %pip install watermark"
   ]
  },
  {
   "cell_type": "code",
   "execution_count": 4,
   "metadata": {},
   "outputs": [
    {
     "name": "stdout",
     "output_type": "stream",
     "text": [
      "2020-11-12T00:23:08-06:00\n",
      "\n",
      "CPython 3.8.3\n",
      "IPython 7.16.1\n",
      "\n",
      "compiler   : Clang 10.0.0 \n",
      "system     : Darwin\n",
      "release    : 19.6.0\n",
      "machine    : x86_64\n",
      "processor  : i386\n",
      "CPU cores  : 4\n",
      "interpreter: 64bit\n",
      "pandas_datareader 0.9.0\n",
      "pandas 1.0.5\n",
      "pyfolio 0.9.2\n"
     ]
    }
   ],
   "source": [
    "%load_ext watermark\n",
    "%watermark\n",
    "%watermark -p pandas_datareader,pandas,pyfolio"
   ]
  },
  {
   "cell_type": "code",
   "execution_count": 5,
   "metadata": {},
   "outputs": [],
   "source": [
    "def get_Data(index):\n",
    "    data = pdr.get_data_yahoo(index, start=startdate, end=enddate)\n",
    "    return data"
   ]
  },
  {
   "cell_type": "code",
   "execution_count": 6,
   "metadata": {},
   "outputs": [],
   "source": [
    "startdate = date.datetime(2019, 1, 1)\n",
    "enddate = date.datetime(2020, 1, 1)"
   ]
  },
  {
   "cell_type": "code",
   "execution_count": 7,
   "metadata": {},
   "outputs": [
    {
     "data": {
      "text/html": [
       "<div>\n",
       "<style scoped>\n",
       "    .dataframe tbody tr th:only-of-type {\n",
       "        vertical-align: middle;\n",
       "    }\n",
       "\n",
       "    .dataframe tbody tr th {\n",
       "        vertical-align: top;\n",
       "    }\n",
       "\n",
       "    .dataframe thead th {\n",
       "        text-align: right;\n",
       "    }\n",
       "</style>\n",
       "<table border=\"1\" class=\"dataframe\">\n",
       "  <thead>\n",
       "    <tr style=\"text-align: right;\">\n",
       "      <th></th>\n",
       "      <th>High</th>\n",
       "      <th>Low</th>\n",
       "      <th>Open</th>\n",
       "      <th>Close</th>\n",
       "      <th>Volume</th>\n",
       "      <th>Adj Close</th>\n",
       "    </tr>\n",
       "    <tr>\n",
       "      <th>Date</th>\n",
       "      <th></th>\n",
       "      <th></th>\n",
       "      <th></th>\n",
       "      <th></th>\n",
       "      <th></th>\n",
       "      <th></th>\n",
       "    </tr>\n",
       "  </thead>\n",
       "  <tbody>\n",
       "    <tr>\n",
       "      <th>2019-01-02</th>\n",
       "      <td>223.000000</td>\n",
       "      <td>220.149994</td>\n",
       "      <td>221.869995</td>\n",
       "      <td>221.550003</td>\n",
       "      <td>406167.0</td>\n",
       "      <td>210.278763</td>\n",
       "    </tr>\n",
       "    <tr>\n",
       "      <th>2019-01-03</th>\n",
       "      <td>224.300003</td>\n",
       "      <td>220.100006</td>\n",
       "      <td>221.070007</td>\n",
       "      <td>222.009995</td>\n",
       "      <td>425984.0</td>\n",
       "      <td>210.715347</td>\n",
       "    </tr>\n",
       "    <tr>\n",
       "      <th>2019-01-04</th>\n",
       "      <td>223.889999</td>\n",
       "      <td>221.009995</td>\n",
       "      <td>222.600006</td>\n",
       "      <td>222.990005</td>\n",
       "      <td>495016.0</td>\n",
       "      <td>211.645493</td>\n",
       "    </tr>\n",
       "    <tr>\n",
       "      <th>2019-01-07</th>\n",
       "      <td>225.000000</td>\n",
       "      <td>220.259995</td>\n",
       "      <td>223.449997</td>\n",
       "      <td>224.199997</td>\n",
       "      <td>541695.0</td>\n",
       "      <td>212.793915</td>\n",
       "    </tr>\n",
       "    <tr>\n",
       "      <th>2019-01-08</th>\n",
       "      <td>227.020004</td>\n",
       "      <td>223.009995</td>\n",
       "      <td>226.000000</td>\n",
       "      <td>224.559998</td>\n",
       "      <td>377490.0</td>\n",
       "      <td>213.135620</td>\n",
       "    </tr>\n",
       "  </tbody>\n",
       "</table>\n",
       "</div>"
      ],
      "text/plain": [
       "                  High         Low        Open       Close    Volume  \\\n",
       "Date                                                                   \n",
       "2019-01-02  223.000000  220.149994  221.869995  221.550003  406167.0   \n",
       "2019-01-03  224.300003  220.100006  221.070007  222.009995  425984.0   \n",
       "2019-01-04  223.889999  221.009995  222.600006  222.990005  495016.0   \n",
       "2019-01-07  225.000000  220.259995  223.449997  224.199997  541695.0   \n",
       "2019-01-08  227.020004  223.009995  226.000000  224.559998  377490.0   \n",
       "\n",
       "             Adj Close  \n",
       "Date                    \n",
       "2019-01-02  210.278763  \n",
       "2019-01-03  210.715347  \n",
       "2019-01-04  211.645493  \n",
       "2019-01-07  212.793915  \n",
       "2019-01-08  213.135620  "
      ]
     },
     "execution_count": 7,
     "metadata": {},
     "output_type": "execute_result"
    }
   ],
   "source": [
    "grumab = get_Data('GRUMAB.MX')\n",
    "megacpo = get_Data(\"MEGACPO.MX\")    #Acciones del portafolio\n",
    "cuervo= get_Data(\"CUERVO.MX\")\n",
    "ipc = get_Data('^MXX')\n",
    "\n",
    "grumab.head()"
   ]
  },
  {
   "cell_type": "markdown",
   "metadata": {},
   "source": [
    "**Para cada acción de este portafolio, regresa una nueva columna, en la cual vas a dividir el cierre entre el cierre pero de la primera entrada.**"
   ]
  },
  {
   "cell_type": "code",
   "execution_count": 8,
   "metadata": {},
   "outputs": [],
   "source": [
    "for stock in (grumab,megacpo,cuervo,ipc):\n",
    "    stock['Returns'] = stock['Adj Close'] / stock['Adj Close'].iloc[0]  "
   ]
  },
  {
   "cell_type": "code",
   "execution_count": 9,
   "metadata": {},
   "outputs": [
    {
     "data": {
      "text/html": [
       "<div>\n",
       "<style scoped>\n",
       "    .dataframe tbody tr th:only-of-type {\n",
       "        vertical-align: middle;\n",
       "    }\n",
       "\n",
       "    .dataframe tbody tr th {\n",
       "        vertical-align: top;\n",
       "    }\n",
       "\n",
       "    .dataframe thead th {\n",
       "        text-align: right;\n",
       "    }\n",
       "</style>\n",
       "<table border=\"1\" class=\"dataframe\">\n",
       "  <thead>\n",
       "    <tr style=\"text-align: right;\">\n",
       "      <th></th>\n",
       "      <th>High</th>\n",
       "      <th>Low</th>\n",
       "      <th>Open</th>\n",
       "      <th>Close</th>\n",
       "      <th>Volume</th>\n",
       "      <th>Adj Close</th>\n",
       "      <th>Returns</th>\n",
       "    </tr>\n",
       "    <tr>\n",
       "      <th>Date</th>\n",
       "      <th></th>\n",
       "      <th></th>\n",
       "      <th></th>\n",
       "      <th></th>\n",
       "      <th></th>\n",
       "      <th></th>\n",
       "      <th></th>\n",
       "    </tr>\n",
       "  </thead>\n",
       "  <tbody>\n",
       "    <tr>\n",
       "      <th>2019-01-02</th>\n",
       "      <td>223.000000</td>\n",
       "      <td>220.149994</td>\n",
       "      <td>221.869995</td>\n",
       "      <td>221.550003</td>\n",
       "      <td>406167.0</td>\n",
       "      <td>210.278763</td>\n",
       "      <td>1.000000</td>\n",
       "    </tr>\n",
       "    <tr>\n",
       "      <th>2019-01-03</th>\n",
       "      <td>224.300003</td>\n",
       "      <td>220.100006</td>\n",
       "      <td>221.070007</td>\n",
       "      <td>222.009995</td>\n",
       "      <td>425984.0</td>\n",
       "      <td>210.715347</td>\n",
       "      <td>1.002076</td>\n",
       "    </tr>\n",
       "    <tr>\n",
       "      <th>2019-01-04</th>\n",
       "      <td>223.889999</td>\n",
       "      <td>221.009995</td>\n",
       "      <td>222.600006</td>\n",
       "      <td>222.990005</td>\n",
       "      <td>495016.0</td>\n",
       "      <td>211.645493</td>\n",
       "      <td>1.006500</td>\n",
       "    </tr>\n",
       "    <tr>\n",
       "      <th>2019-01-07</th>\n",
       "      <td>225.000000</td>\n",
       "      <td>220.259995</td>\n",
       "      <td>223.449997</td>\n",
       "      <td>224.199997</td>\n",
       "      <td>541695.0</td>\n",
       "      <td>212.793915</td>\n",
       "      <td>1.011961</td>\n",
       "    </tr>\n",
       "    <tr>\n",
       "      <th>2019-01-08</th>\n",
       "      <td>227.020004</td>\n",
       "      <td>223.009995</td>\n",
       "      <td>226.000000</td>\n",
       "      <td>224.559998</td>\n",
       "      <td>377490.0</td>\n",
       "      <td>213.135620</td>\n",
       "      <td>1.013586</td>\n",
       "    </tr>\n",
       "  </tbody>\n",
       "</table>\n",
       "</div>"
      ],
      "text/plain": [
       "                  High         Low        Open       Close    Volume  \\\n",
       "Date                                                                   \n",
       "2019-01-02  223.000000  220.149994  221.869995  221.550003  406167.0   \n",
       "2019-01-03  224.300003  220.100006  221.070007  222.009995  425984.0   \n",
       "2019-01-04  223.889999  221.009995  222.600006  222.990005  495016.0   \n",
       "2019-01-07  225.000000  220.259995  223.449997  224.199997  541695.0   \n",
       "2019-01-08  227.020004  223.009995  226.000000  224.559998  377490.0   \n",
       "\n",
       "             Adj Close   Returns  \n",
       "Date                              \n",
       "2019-01-02  210.278763  1.000000  \n",
       "2019-01-03  210.715347  1.002076  \n",
       "2019-01-04  211.645493  1.006500  \n",
       "2019-01-07  212.793915  1.011961  \n",
       "2019-01-08  213.135620  1.013586  "
      ]
     },
     "execution_count": 9,
     "metadata": {},
     "output_type": "execute_result"
    }
   ],
   "source": [
    "grumab.head()"
   ]
  },
  {
   "cell_type": "markdown",
   "metadata": {},
   "source": [
    "**Invertir el 20% de nuestro dinero en grumab, otro 20% en megacpo, 40% en cuervo, y por ultimo 20% en ipc.**\n",
    "\n",
    "\n",
    "**Y multiplicamos los porcentajes por los retornos**"
   ]
  },
  {
   "cell_type": "code",
   "execution_count": 10,
   "metadata": {},
   "outputs": [
    {
     "data": {
      "text/html": [
       "<div>\n",
       "<style scoped>\n",
       "    .dataframe tbody tr th:only-of-type {\n",
       "        vertical-align: middle;\n",
       "    }\n",
       "\n",
       "    .dataframe tbody tr th {\n",
       "        vertical-align: top;\n",
       "    }\n",
       "\n",
       "    .dataframe thead th {\n",
       "        text-align: right;\n",
       "    }\n",
       "</style>\n",
       "<table border=\"1\" class=\"dataframe\">\n",
       "  <thead>\n",
       "    <tr style=\"text-align: right;\">\n",
       "      <th></th>\n",
       "      <th>High</th>\n",
       "      <th>Low</th>\n",
       "      <th>Open</th>\n",
       "      <th>Close</th>\n",
       "      <th>Volume</th>\n",
       "      <th>Adj Close</th>\n",
       "      <th>Returns</th>\n",
       "      <th>Allocation</th>\n",
       "    </tr>\n",
       "    <tr>\n",
       "      <th>Date</th>\n",
       "      <th></th>\n",
       "      <th></th>\n",
       "      <th></th>\n",
       "      <th></th>\n",
       "      <th></th>\n",
       "      <th></th>\n",
       "      <th></th>\n",
       "      <th></th>\n",
       "    </tr>\n",
       "  </thead>\n",
       "  <tbody>\n",
       "    <tr>\n",
       "      <th>2019-01-02</th>\n",
       "      <td>223.000000</td>\n",
       "      <td>220.149994</td>\n",
       "      <td>221.869995</td>\n",
       "      <td>221.550003</td>\n",
       "      <td>406167.0</td>\n",
       "      <td>210.278763</td>\n",
       "      <td>1.000000</td>\n",
       "      <td>0.200000</td>\n",
       "    </tr>\n",
       "    <tr>\n",
       "      <th>2019-01-03</th>\n",
       "      <td>224.300003</td>\n",
       "      <td>220.100006</td>\n",
       "      <td>221.070007</td>\n",
       "      <td>222.009995</td>\n",
       "      <td>425984.0</td>\n",
       "      <td>210.715347</td>\n",
       "      <td>1.002076</td>\n",
       "      <td>0.200415</td>\n",
       "    </tr>\n",
       "    <tr>\n",
       "      <th>2019-01-04</th>\n",
       "      <td>223.889999</td>\n",
       "      <td>221.009995</td>\n",
       "      <td>222.600006</td>\n",
       "      <td>222.990005</td>\n",
       "      <td>495016.0</td>\n",
       "      <td>211.645493</td>\n",
       "      <td>1.006500</td>\n",
       "      <td>0.201300</td>\n",
       "    </tr>\n",
       "    <tr>\n",
       "      <th>2019-01-07</th>\n",
       "      <td>225.000000</td>\n",
       "      <td>220.259995</td>\n",
       "      <td>223.449997</td>\n",
       "      <td>224.199997</td>\n",
       "      <td>541695.0</td>\n",
       "      <td>212.793915</td>\n",
       "      <td>1.011961</td>\n",
       "      <td>0.202392</td>\n",
       "    </tr>\n",
       "    <tr>\n",
       "      <th>2019-01-08</th>\n",
       "      <td>227.020004</td>\n",
       "      <td>223.009995</td>\n",
       "      <td>226.000000</td>\n",
       "      <td>224.559998</td>\n",
       "      <td>377490.0</td>\n",
       "      <td>213.135620</td>\n",
       "      <td>1.013586</td>\n",
       "      <td>0.202717</td>\n",
       "    </tr>\n",
       "  </tbody>\n",
       "</table>\n",
       "</div>"
      ],
      "text/plain": [
       "                  High         Low        Open       Close    Volume  \\\n",
       "Date                                                                   \n",
       "2019-01-02  223.000000  220.149994  221.869995  221.550003  406167.0   \n",
       "2019-01-03  224.300003  220.100006  221.070007  222.009995  425984.0   \n",
       "2019-01-04  223.889999  221.009995  222.600006  222.990005  495016.0   \n",
       "2019-01-07  225.000000  220.259995  223.449997  224.199997  541695.0   \n",
       "2019-01-08  227.020004  223.009995  226.000000  224.559998  377490.0   \n",
       "\n",
       "             Adj Close   Returns  Allocation  \n",
       "Date                                          \n",
       "2019-01-02  210.278763  1.000000    0.200000  \n",
       "2019-01-03  210.715347  1.002076    0.200415  \n",
       "2019-01-04  211.645493  1.006500    0.201300  \n",
       "2019-01-07  212.793915  1.011961    0.202392  \n",
       "2019-01-08  213.135620  1.013586    0.202717  "
      ]
     },
     "execution_count": 10,
     "metadata": {},
     "output_type": "execute_result"
    }
   ],
   "source": [
    "for stock, allocation in zip((grumab,megacpo,cuervo,ipc),[.2,.2,.4,.2]):\n",
    "    stock['Allocation'] = stock['Returns'] * allocation\n",
    "\n",
    "grumab.head()"
   ]
  },
  {
   "cell_type": "markdown",
   "metadata": {},
   "source": [
    "**Invertimos 50,000 en este portafolio.**\n",
    "\n",
    "**Y creamos una columna que multiplique allocation por el dinero a invertir**"
   ]
  },
  {
   "cell_type": "code",
   "execution_count": 11,
   "metadata": {},
   "outputs": [
    {
     "data": {
      "text/html": [
       "<div>\n",
       "<style scoped>\n",
       "    .dataframe tbody tr th:only-of-type {\n",
       "        vertical-align: middle;\n",
       "    }\n",
       "\n",
       "    .dataframe tbody tr th {\n",
       "        vertical-align: top;\n",
       "    }\n",
       "\n",
       "    .dataframe thead th {\n",
       "        text-align: right;\n",
       "    }\n",
       "</style>\n",
       "<table border=\"1\" class=\"dataframe\">\n",
       "  <thead>\n",
       "    <tr style=\"text-align: right;\">\n",
       "      <th></th>\n",
       "      <th>High</th>\n",
       "      <th>Low</th>\n",
       "      <th>Open</th>\n",
       "      <th>Close</th>\n",
       "      <th>Volume</th>\n",
       "      <th>Adj Close</th>\n",
       "      <th>Returns</th>\n",
       "      <th>Allocation</th>\n",
       "      <th>Position</th>\n",
       "    </tr>\n",
       "    <tr>\n",
       "      <th>Date</th>\n",
       "      <th></th>\n",
       "      <th></th>\n",
       "      <th></th>\n",
       "      <th></th>\n",
       "      <th></th>\n",
       "      <th></th>\n",
       "      <th></th>\n",
       "      <th></th>\n",
       "      <th></th>\n",
       "    </tr>\n",
       "  </thead>\n",
       "  <tbody>\n",
       "    <tr>\n",
       "      <th>2019-01-02</th>\n",
       "      <td>223.000000</td>\n",
       "      <td>220.149994</td>\n",
       "      <td>221.869995</td>\n",
       "      <td>221.550003</td>\n",
       "      <td>406167.0</td>\n",
       "      <td>210.278763</td>\n",
       "      <td>1.000000</td>\n",
       "      <td>0.200000</td>\n",
       "      <td>10000.000000</td>\n",
       "    </tr>\n",
       "    <tr>\n",
       "      <th>2019-01-03</th>\n",
       "      <td>224.300003</td>\n",
       "      <td>220.100006</td>\n",
       "      <td>221.070007</td>\n",
       "      <td>222.009995</td>\n",
       "      <td>425984.0</td>\n",
       "      <td>210.715347</td>\n",
       "      <td>1.002076</td>\n",
       "      <td>0.200415</td>\n",
       "      <td>10020.762176</td>\n",
       "    </tr>\n",
       "    <tr>\n",
       "      <th>2019-01-04</th>\n",
       "      <td>223.889999</td>\n",
       "      <td>221.009995</td>\n",
       "      <td>222.600006</td>\n",
       "      <td>222.990005</td>\n",
       "      <td>495016.0</td>\n",
       "      <td>211.645493</td>\n",
       "      <td>1.006500</td>\n",
       "      <td>0.201300</td>\n",
       "      <td>10064.996090</td>\n",
       "    </tr>\n",
       "    <tr>\n",
       "      <th>2019-01-07</th>\n",
       "      <td>225.000000</td>\n",
       "      <td>220.259995</td>\n",
       "      <td>223.449997</td>\n",
       "      <td>224.199997</td>\n",
       "      <td>541695.0</td>\n",
       "      <td>212.793915</td>\n",
       "      <td>1.011961</td>\n",
       "      <td>0.202392</td>\n",
       "      <td>10119.610366</td>\n",
       "    </tr>\n",
       "    <tr>\n",
       "      <th>2019-01-08</th>\n",
       "      <td>227.020004</td>\n",
       "      <td>223.009995</td>\n",
       "      <td>226.000000</td>\n",
       "      <td>224.559998</td>\n",
       "      <td>377490.0</td>\n",
       "      <td>213.135620</td>\n",
       "      <td>1.013586</td>\n",
       "      <td>0.202717</td>\n",
       "      <td>10135.860477</td>\n",
       "    </tr>\n",
       "  </tbody>\n",
       "</table>\n",
       "</div>"
      ],
      "text/plain": [
       "                  High         Low        Open       Close    Volume  \\\n",
       "Date                                                                   \n",
       "2019-01-02  223.000000  220.149994  221.869995  221.550003  406167.0   \n",
       "2019-01-03  224.300003  220.100006  221.070007  222.009995  425984.0   \n",
       "2019-01-04  223.889999  221.009995  222.600006  222.990005  495016.0   \n",
       "2019-01-07  225.000000  220.259995  223.449997  224.199997  541695.0   \n",
       "2019-01-08  227.020004  223.009995  226.000000  224.559998  377490.0   \n",
       "\n",
       "             Adj Close   Returns  Allocation      Position  \n",
       "Date                                                        \n",
       "2019-01-02  210.278763  1.000000    0.200000  10000.000000  \n",
       "2019-01-03  210.715347  1.002076    0.200415  10020.762176  \n",
       "2019-01-04  211.645493  1.006500    0.201300  10064.996090  \n",
       "2019-01-07  212.793915  1.011961    0.202392  10119.610366  \n",
       "2019-01-08  213.135620  1.013586    0.202717  10135.860477  "
      ]
     },
     "execution_count": 11,
     "metadata": {},
     "output_type": "execute_result"
    }
   ],
   "source": [
    "for stock in (grumab,megacpo,cuervo,ipc):\n",
    "    stock['Position'] = stock['Allocation'] * 50000\n",
    "\n",
    "grumab.head()"
   ]
  },
  {
   "cell_type": "markdown",
   "metadata": {},
   "source": [
    "**Creamos el portafolio, y concatenamos las posiciones en el axis uno que es la fecha.**"
   ]
  },
  {
   "cell_type": "code",
   "execution_count": 12,
   "metadata": {},
   "outputs": [
    {
     "data": {
      "text/html": [
       "<div>\n",
       "<style scoped>\n",
       "    .dataframe tbody tr th:only-of-type {\n",
       "        vertical-align: middle;\n",
       "    }\n",
       "\n",
       "    .dataframe tbody tr th {\n",
       "        vertical-align: top;\n",
       "    }\n",
       "\n",
       "    .dataframe thead th {\n",
       "        text-align: right;\n",
       "    }\n",
       "</style>\n",
       "<table border=\"1\" class=\"dataframe\">\n",
       "  <thead>\n",
       "    <tr style=\"text-align: right;\">\n",
       "      <th></th>\n",
       "      <th>GRUMAB.MX</th>\n",
       "      <th>MEGACPO.MX</th>\n",
       "      <th>CUERVO.MX</th>\n",
       "      <th>IPC</th>\n",
       "    </tr>\n",
       "    <tr>\n",
       "      <th>Date</th>\n",
       "      <th></th>\n",
       "      <th></th>\n",
       "      <th></th>\n",
       "      <th></th>\n",
       "    </tr>\n",
       "  </thead>\n",
       "  <tbody>\n",
       "    <tr>\n",
       "      <th>2019-01-02</th>\n",
       "      <td>10000.000000</td>\n",
       "      <td>10000.000000</td>\n",
       "      <td>20000.000000</td>\n",
       "      <td>10000.000000</td>\n",
       "    </tr>\n",
       "    <tr>\n",
       "      <th>2019-01-03</th>\n",
       "      <td>10020.762176</td>\n",
       "      <td>9992.252376</td>\n",
       "      <td>19977.528128</td>\n",
       "      <td>9946.341568</td>\n",
       "    </tr>\n",
       "    <tr>\n",
       "      <th>2019-01-04</th>\n",
       "      <td>10064.996090</td>\n",
       "      <td>9822.911070</td>\n",
       "      <td>20269.662464</td>\n",
       "      <td>10043.525743</td>\n",
       "    </tr>\n",
       "    <tr>\n",
       "      <th>2019-01-07</th>\n",
       "      <td>10119.610366</td>\n",
       "      <td>9944.660211</td>\n",
       "      <td>19940.074516</td>\n",
       "      <td>10133.201656</td>\n",
       "    </tr>\n",
       "    <tr>\n",
       "      <th>2019-01-08</th>\n",
       "      <td>10135.860477</td>\n",
       "      <td>9852.795144</td>\n",
       "      <td>19895.130772</td>\n",
       "      <td>10300.850758</td>\n",
       "    </tr>\n",
       "  </tbody>\n",
       "</table>\n",
       "</div>"
      ],
      "text/plain": [
       "               GRUMAB.MX    MEGACPO.MX     CUERVO.MX           IPC\n",
       "Date                                                              \n",
       "2019-01-02  10000.000000  10000.000000  20000.000000  10000.000000\n",
       "2019-01-03  10020.762176   9992.252376  19977.528128   9946.341568\n",
       "2019-01-04  10064.996090   9822.911070  20269.662464  10043.525743\n",
       "2019-01-07  10119.610366   9944.660211  19940.074516  10133.201656\n",
       "2019-01-08  10135.860477   9852.795144  19895.130772  10300.850758"
      ]
     },
     "execution_count": 12,
     "metadata": {},
     "output_type": "execute_result"
    }
   ],
   "source": [
    "portafolio = pd.concat([grumab['Position'],megacpo['Position'],cuervo['Position'],ipc['Position']], axis=1)\n",
    "portafolio.columns = ['GRUMAB.MX','MEGACPO.MX','CUERVO.MX','IPC']\n",
    "portafolio.head()"
   ]
  },
  {
   "cell_type": "markdown",
   "metadata": {},
   "source": [
    "**Creamos una serie que viene siendo la suma de todos los anteriores para poder obsrvar el portafolio total.**"
   ]
  },
  {
   "cell_type": "code",
   "execution_count": 13,
   "metadata": {},
   "outputs": [
    {
     "data": {
      "text/plain": [
       "Date\n",
       "2019-01-02    50000.000000\n",
       "2019-01-03    49936.884248\n",
       "2019-01-04    50201.095367\n",
       "2019-01-07    50137.546749\n",
       "2019-01-08    50184.637151\n",
       "dtype: float64"
      ]
     },
     "execution_count": 13,
     "metadata": {},
     "output_type": "execute_result"
    }
   ],
   "source": [
    "portafolio_total = portafolio.sum(axis=1)\n",
    "portafolio_total.head()"
   ]
  },
  {
   "cell_type": "markdown",
   "metadata": {},
   "source": [
    "**Graficamos el rendimiento del portafolio en 1 año.**"
   ]
  },
  {
   "cell_type": "code",
   "execution_count": 14,
   "metadata": {},
   "outputs": [
    {
     "data": {
      "image/png": "[encoded data removed]",
      "text/plain": [
       "<Figure size 432x288 with 1 Axes>"
      ]
     },
     "metadata": {
      "needs_background": "light"
     },
     "output_type": "display_data"
    }
   ],
   "source": [
    "portafolio_total.plot()\n",
    "plt.show()"
   ]
  },
  {
   "cell_type": "markdown",
   "metadata": {},
   "source": [
    "**Graficamos el rendimiento de cada acción.**"
   ]
  },
  {
   "cell_type": "code",
   "execution_count": 15,
   "metadata": {},
   "outputs": [
    {
     "data": {
      "image/png": "[encoded data removed]",
      "text/plain": [
       "<Figure size 432x288 with 1 Axes>"
      ]
     },
     "metadata": {
      "needs_background": "light"
     },
     "output_type": "display_data"
    }
   ],
   "source": [
    "portafolio.plot()\n",
    "plt.show()"
   ]
  },
  {
   "cell_type": "markdown",
   "metadata": {},
   "source": [
    "**Calculamos los retornos diarios.**"
   ]
  },
  {
   "cell_type": "code",
   "execution_count": 16,
   "metadata": {},
   "outputs": [
    {
     "data": {
      "text/plain": [
       "Date\n",
       "2019-01-03   -0.001262\n",
       "2019-01-04    0.005291\n",
       "2019-01-07   -0.001266\n",
       "2019-01-08    0.000939\n",
       "2019-01-09   -0.005284\n",
       "dtype: float64"
      ]
     },
     "execution_count": 16,
     "metadata": {},
     "output_type": "execute_result"
    }
   ],
   "source": [
    "portafolio_returns = portafolio_total.pct_change().dropna()\n",
    "portafolio_returns.head()"
   ]
  },
  {
   "cell_type": "code",
   "execution_count": 17,
   "metadata": {},
   "outputs": [
    {
     "data": {
      "text/html": [
       "<table border=\"1\" class=\"dataframe\">\n",
       "  <thead>\n",
       "    <tr style=\"text-align: right;\"><th>Start date</th><td colspan=2>2019-01-03</td></tr>\n",
       "    <tr style=\"text-align: right;\"><th>End date</th><td colspan=2>2019-12-31</td></tr>\n",
       "    <tr style=\"text-align: right;\"><th>Total months</th><td colspan=2>11</td></tr>\n",
       "    <tr style=\"text-align: right;\">\n",
       "      <th></th>\n",
       "      <th>Backtest</th>\n",
       "    </tr>\n",
       "  </thead>\n",
       "  <tbody>\n",
       "    <tr>\n",
       "      <th>Annual return</th>\n",
       "      <td>10.2%</td>\n",
       "    </tr>\n",
       "    <tr>\n",
       "      <th>Cumulative returns</th>\n",
       "      <td>10.1%</td>\n",
       "    </tr>\n",
       "    <tr>\n",
       "      <th>Annual volatility</th>\n",
       "      <td>13.8%</td>\n",
       "    </tr>\n",
       "    <tr>\n",
       "      <th>Sharpe ratio</th>\n",
       "      <td>0.77</td>\n",
       "    </tr>\n",
       "    <tr>\n",
       "      <th>Calmar ratio</th>\n",
       "      <td>0.93</td>\n",
       "    </tr>\n",
       "    <tr>\n",
       "      <th>Stability</th>\n",
       "      <td>0.35</td>\n",
       "    </tr>\n",
       "    <tr>\n",
       "      <th>Max drawdown</th>\n",
       "      <td>-10.9%</td>\n",
       "    </tr>\n",
       "    <tr>\n",
       "      <th>Omega ratio</th>\n",
       "      <td>1.14</td>\n",
       "    </tr>\n",
       "    <tr>\n",
       "      <th>Sortino ratio</th>\n",
       "      <td>1.21</td>\n",
       "    </tr>\n",
       "    <tr>\n",
       "      <th>Skew</th>\n",
       "      <td>0.53</td>\n",
       "    </tr>\n",
       "    <tr>\n",
       "      <th>Kurtosis</th>\n",
       "      <td>1.66</td>\n",
       "    </tr>\n",
       "    <tr>\n",
       "      <th>Tail ratio</th>\n",
       "      <td>1.19</td>\n",
       "    </tr>\n",
       "    <tr>\n",
       "      <th>Daily value at risk</th>\n",
       "      <td>-1.7%</td>\n",
       "    </tr>\n",
       "  </tbody>\n",
       "</table>"
      ],
      "text/plain": [
       "<IPython.core.display.HTML object>"
      ]
     },
     "metadata": {},
     "output_type": "display_data"
    },
    {
     "ename": "AttributeError",
     "evalue": "'numpy.int64' object has no attribute 'to_pydatetime'",
     "output_type": "error",
     "traceback": [
      "\u001b[0;31m---------------------------------------------------------------------------\u001b[0m",
      "\u001b[0;31mAttributeError\u001b[0m                            Traceback (most recent call last)",
      "\u001b[0;32m<ipython-input-17-665b70bee586>\u001b[0m in \u001b[0;36m<module>\u001b[0;34m\u001b[0m\n\u001b[1;32m      8\u001b[0m \u001b[0mwarnings\u001b[0m\u001b[0;34m.\u001b[0m\u001b[0mfilterwarnings\u001b[0m\u001b[0;34m(\u001b[0m\u001b[0;34m'ignore'\u001b[0m\u001b[0;34m)\u001b[0m\u001b[0;34m\u001b[0m\u001b[0;34m\u001b[0m\u001b[0m\n\u001b[1;32m      9\u001b[0m \u001b[0;34m\u001b[0m\u001b[0m\n\u001b[0;32m---> 10\u001b[0;31m \u001b[0mpyfolio\u001b[0m\u001b[0;34m.\u001b[0m\u001b[0mcreate_returns_tear_sheet\u001b[0m\u001b[0;34m(\u001b[0m\u001b[0mportafolio_returns\u001b[0m\u001b[0;34m)\u001b[0m\u001b[0;34m\u001b[0m\u001b[0;34m\u001b[0m\u001b[0m\n\u001b[0m",
      "\u001b[0;32m/opt/anaconda3/lib/python3.8/site-packages/pyfolio/plotting.py\u001b[0m in \u001b[0;36mcall_w_context\u001b[0;34m(*args, **kwargs)\u001b[0m\n\u001b[1;32m     50\u001b[0m         \u001b[0;32mif\u001b[0m \u001b[0mset_context\u001b[0m\u001b[0;34m:\u001b[0m\u001b[0;34m\u001b[0m\u001b[0;34m\u001b[0m\u001b[0m\n\u001b[1;32m     51\u001b[0m             \u001b[0;32mwith\u001b[0m \u001b[0mplotting_context\u001b[0m\u001b[0;34m(\u001b[0m\u001b[0;34m)\u001b[0m\u001b[0;34m,\u001b[0m \u001b[0maxes_style\u001b[0m\u001b[0;34m(\u001b[0m\u001b[0;34m)\u001b[0m\u001b[0;34m:\u001b[0m\u001b[0;34m\u001b[0m\u001b[0;34m\u001b[0m\u001b[0m\n\u001b[0;32m---> 52\u001b[0;31m                 \u001b[0;32mreturn\u001b[0m \u001b[0mfunc\u001b[0m\u001b[0;34m(\u001b[0m\u001b[0;34m*\u001b[0m\u001b[0margs\u001b[0m\u001b[0;34m,\u001b[0m \u001b[0;34m**\u001b[0m\u001b[0mkwargs\u001b[0m\u001b[0;34m)\u001b[0m\u001b[0;34m\u001b[0m\u001b[0;34m\u001b[0m\u001b[0m\n\u001b[0m\u001b[1;32m     53\u001b[0m         \u001b[0;32melse\u001b[0m\u001b[0;34m:\u001b[0m\u001b[0;34m\u001b[0m\u001b[0;34m\u001b[0m\u001b[0m\n\u001b[1;32m     54\u001b[0m             \u001b[0;32mreturn\u001b[0m \u001b[0mfunc\u001b[0m\u001b[0;34m(\u001b[0m\u001b[0;34m*\u001b[0m\u001b[0margs\u001b[0m\u001b[0;34m,\u001b[0m \u001b[0;34m**\u001b[0m\u001b[0mkwargs\u001b[0m\u001b[0;34m)\u001b[0m\u001b[0;34m\u001b[0m\u001b[0;34m\u001b[0m\u001b[0m\n",
      "\u001b[0;32m/opt/anaconda3/lib/python3.8/site-packages/pyfolio/tears.py\u001b[0m in \u001b[0;36mcreate_returns_tear_sheet\u001b[0;34m(returns, positions, transactions, live_start_date, cone_std, benchmark_rets, bootstrap, turnover_denom, header_rows, return_fig)\u001b[0m\n\u001b[1;32m    502\u001b[0m                              header_rows=header_rows)\n\u001b[1;32m    503\u001b[0m \u001b[0;34m\u001b[0m\u001b[0m\n\u001b[0;32m--> 504\u001b[0;31m     \u001b[0mplotting\u001b[0m\u001b[0;34m.\u001b[0m\u001b[0mshow_worst_drawdown_periods\u001b[0m\u001b[0;34m(\u001b[0m\u001b[0mreturns\u001b[0m\u001b[0;34m)\u001b[0m\u001b[0;34m\u001b[0m\u001b[0;34m\u001b[0m\u001b[0m\n\u001b[0m\u001b[1;32m    505\u001b[0m \u001b[0;34m\u001b[0m\u001b[0m\n\u001b[1;32m    506\u001b[0m     \u001b[0mvertical_sections\u001b[0m \u001b[0;34m=\u001b[0m \u001b[0;36m11\u001b[0m\u001b[0;34m\u001b[0m\u001b[0;34m\u001b[0m\u001b[0m\n",
      "\u001b[0;32m/opt/anaconda3/lib/python3.8/site-packages/pyfolio/plotting.py\u001b[0m in \u001b[0;36mshow_worst_drawdown_periods\u001b[0;34m(returns, top)\u001b[0m\n\u001b[1;32m   1662\u001b[0m     \"\"\"\n\u001b[1;32m   1663\u001b[0m \u001b[0;34m\u001b[0m\u001b[0m\n\u001b[0;32m-> 1664\u001b[0;31m     \u001b[0mdrawdown_df\u001b[0m \u001b[0;34m=\u001b[0m \u001b[0mtimeseries\u001b[0m\u001b[0;34m.\u001b[0m\u001b[0mgen_drawdown_table\u001b[0m\u001b[0;34m(\u001b[0m\u001b[0mreturns\u001b[0m\u001b[0;34m,\u001b[0m \u001b[0mtop\u001b[0m\u001b[0;34m=\u001b[0m\u001b[0mtop\u001b[0m\u001b[0;34m)\u001b[0m\u001b[0;34m\u001b[0m\u001b[0;34m\u001b[0m\u001b[0m\n\u001b[0m\u001b[1;32m   1665\u001b[0m     utils.print_table(\n\u001b[1;32m   1666\u001b[0m         \u001b[0mdrawdown_df\u001b[0m\u001b[0;34m.\u001b[0m\u001b[0msort_values\u001b[0m\u001b[0;34m(\u001b[0m\u001b[0;34m'Net drawdown in %'\u001b[0m\u001b[0;34m,\u001b[0m \u001b[0mascending\u001b[0m\u001b[0;34m=\u001b[0m\u001b[0;32mFalse\u001b[0m\u001b[0;34m)\u001b[0m\u001b[0;34m,\u001b[0m\u001b[0;34m\u001b[0m\u001b[0;34m\u001b[0m\u001b[0m\n",
      "\u001b[0;32m/opt/anaconda3/lib/python3.8/site-packages/pyfolio/timeseries.py\u001b[0m in \u001b[0;36mgen_drawdown_table\u001b[0;34m(returns, top)\u001b[0m\n\u001b[1;32m   1006\u001b[0m         df_drawdowns.loc[i, 'Peak date'] = (peak.to_pydatetime()\n\u001b[1;32m   1007\u001b[0m                                             .strftime('%Y-%m-%d'))\n\u001b[0;32m-> 1008\u001b[0;31m         df_drawdowns.loc[i, 'Valley date'] = (valley.to_pydatetime()\n\u001b[0m\u001b[1;32m   1009\u001b[0m                                               .strftime('%Y-%m-%d'))\n\u001b[1;32m   1010\u001b[0m         \u001b[0;32mif\u001b[0m \u001b[0misinstance\u001b[0m\u001b[0;34m(\u001b[0m\u001b[0mrecovery\u001b[0m\u001b[0;34m,\u001b[0m \u001b[0mfloat\u001b[0m\u001b[0;34m)\u001b[0m\u001b[0;34m:\u001b[0m\u001b[0;34m\u001b[0m\u001b[0;34m\u001b[0m\u001b[0m\n",
      "\u001b[0;31mAttributeError\u001b[0m: 'numpy.int64' object has no attribute 'to_pydatetime'"
     ]
    }
   ],
   "source": [
    "benchmark = ipc['Adj Close']\n",
    "bench = benchmark.pct_change().dropna()\n",
    "bench.rename('Benchmark IPC')\n",
    "%matplotlib inline\n",
    "\n",
    "# silence warnings\n",
    "\n",
    "warnings.filterwarnings('ignore')\n",
    "\n",
    "pyfolio.create_returns_tear_sheet(portafolio_returns)"
   ]
  },
  {
   "cell_type": "markdown",
   "metadata": {},
   "source": [
    "**Creamos los retornos logarítmicos para mayor presición.**"
   ]
  },
  {
   "cell_type": "code",
   "execution_count": 18,
   "metadata": {},
   "outputs": [
    {
     "name": "stdout",
     "output_type": "stream",
     "text": [
      "            GRUMAB.MX  MEGACPO.MX  CUERVO.MX       IPC\n",
      "Date                                                  \n",
      "2019-01-03   0.002074   -0.000775  -0.001124 -0.005380\n",
      "2019-01-04   0.004405   -0.017093   0.014517  0.009723\n",
      "2019-01-07   0.005411    0.012318  -0.016394  0.008889\n",
      "2019-01-08   0.001605   -0.009281  -0.002256  0.016409\n",
      "2019-01-09  -0.008856    0.004707  -0.012503  0.002413\n"
     ]
    }
   ],
   "source": [
    "retlog=np.log(portafolio / portafolio.shift(1)).dropna()\n",
    "print(retlog.head())"
   ]
  },
  {
   "cell_type": "code",
   "execution_count": 19,
   "metadata": {},
   "outputs": [
    {
     "data": {
      "text/plain": [
       "array([[<matplotlib.axes._subplots.AxesSubplot object at 0x7f9c230cbc70>,\n",
       "        <matplotlib.axes._subplots.AxesSubplot object at 0x7f9c28028340>],\n",
       "       [<matplotlib.axes._subplots.AxesSubplot object at 0x7f9c281377c0>,\n",
       "        <matplotlib.axes._subplots.AxesSubplot object at 0x7f9c28163c40>]],\n",
       "      dtype=object)"
      ]
     },
     "execution_count": 19,
     "metadata": {},
     "output_type": "execute_result"
    },
    {
     "data": {
      "image/png": "[encoded data removed]",
      "text/plain": [
       "<Figure size 432x288 with 4 Axes>"
      ]
     },
     "metadata": {
      "needs_background": "light"
     },
     "output_type": "display_data"
    }
   ],
   "source": [
    "retlog.hist(bins=60)"
   ]
  },
  {
   "cell_type": "code",
   "execution_count": 20,
   "metadata": {},
   "outputs": [],
   "source": [
    "mu=retlog.mean()\n",
    "std=retlog.std()"
   ]
  },
  {
   "cell_type": "code",
   "execution_count": 21,
   "metadata": {},
   "outputs": [],
   "source": [
    "def simP(dato,start,ndays,N):\n",
    "    R=dato.pct_change()\n",
    "    mu=R.mean()\n",
    "    std=R.std()\n",
    "    Rsimulada=np.random.normal(mu,std,(ndays,N))\n",
    "    fecha=pd.date_range(start,periods=ndays)\n",
    "    RsimDF=pd.DataFrame(index=fecha,data=Rsimulada)\n",
    "    Pproyectados=dato[-1]*(RsimDF+1).cumprod()      #Proyección precios proyectados\n",
    "    return Pproyectados"
   ]
  },
  {
   "cell_type": "markdown",
   "metadata": {},
   "source": [
    "**Sacamos media anualizada, 252 días porque son los días que trabaja la bolsa en un año.**"
   ]
  },
  {
   "cell_type": "code",
   "execution_count": 22,
   "metadata": {},
   "outputs": [
    {
     "name": "stdout",
     "output_type": "stream",
     "text": [
      "GRUMAB.MX    -0.104868\n",
      "MEGACPO.MX   -0.131522\n",
      "CUERVO.MX     0.300521\n",
      "IPC           0.029836\n",
      "dtype: float64\n"
     ]
    }
   ],
   "source": [
    "mu = retlog.mean() * 252\n",
    "print(mu)"
   ]
  },
  {
   "cell_type": "code",
   "execution_count": null,
   "metadata": {},
   "outputs": [],
   "source": []
  }
 ],
 "metadata": {
  "kernelspec": {
   "display_name": "Python 3",
   "language": "python",
   "name": "python3"
  },
  "language_info": {
   "codemirror_mode": {
    "name": "ipython",
    "version": 3
   },
   "file_extension": ".py",
   "mimetype": "text/x-python",
   "name": "python",
   "nbconvert_exporter": "python",
   "pygments_lexer": "ipython3",
   "version": "3.8.3"
  }
 },
 "nbformat": 4,
 "nbformat_minor": 4
}
